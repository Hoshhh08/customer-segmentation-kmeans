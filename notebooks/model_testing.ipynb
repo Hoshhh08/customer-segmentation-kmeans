{
 "cells": [
  {
   "cell_type": "markdown",
   "metadata": {},
   "source": [
    "# Load KMeans model and test run:\n",
    "---"
   ]
  },
  {
   "cell_type": "code",
   "execution_count": 1,
   "metadata": {},
   "outputs": [
    {
     "name": "stdout",
     "output_type": "stream",
     "text": [
      "Models loaded successfully!\n",
      "Predicted Cluster: 1 (Luxury Shopper)\n"
     ]
    }
   ],
   "source": [
    "import warnings\n",
    "warnings.filterwarnings('ignore')\n",
    "import pickle\n",
    "import numpy as np\n",
    "\n",
    "# Load the models:\n",
    "\n",
    "with open('scaler.pkl', 'rb') as f:\n",
    "    scaler = pickle.load(f)\n",
    "\n",
    "with open('pca.pkl', 'rb') as f:\n",
    "    pca = pickle.load(f)\n",
    "\n",
    "with open(\"kmeans.pkl\", \"rb\") as f:\n",
    "    kmeans = pickle.load(f)\n",
    "\n",
    "with open(\"cluster_mapping.pkl\", \"rb\") as f:\n",
    "    cluster_mapping = pickle.load(f)\n",
    "\n",
    "print('Models loaded successfully!')\n",
    "\n",
    "# Example unseen data:\n",
    "new_data = np.array([[100000, 0, 0, 110, 114, 29, 3, 20, 0, 21]])\n",
    "\n",
    "# Transform and predict using the models loaded:\n",
    "new_data_scaled = scaler.transform(new_data)\n",
    "new_data_pca = pca.transform(new_data_scaled)\n",
    "predicted_cluster = kmeans.predict(new_data_pca)[0]\n",
    "predicted_label = cluster_mapping[predicted_cluster]\n",
    "\n",
    "print(f\"Predicted Cluster: {predicted_cluster} ({predicted_label})\")"
   ]
  }
 ],
 "metadata": {
  "kernelspec": {
   "display_name": "base",
   "language": "python",
   "name": "python3"
  },
  "language_info": {
   "codemirror_mode": {
    "name": "ipython",
    "version": 3
   },
   "file_extension": ".py",
   "mimetype": "text/x-python",
   "name": "python",
   "nbconvert_exporter": "python",
   "pygments_lexer": "ipython3",
   "version": "3.12.4"
  }
 },
 "nbformat": 4,
 "nbformat_minor": 2
}
